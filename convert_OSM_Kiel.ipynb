{
 "cells": [
  {
   "cell_type": "markdown",
   "metadata": {},
   "source": [
    "# Prerequisites"
   ]
  },
  {
   "cell_type": "markdown",
   "metadata": {},
   "source": [
    "This converter relies on Docker for the abstraction of the environment. You can install Docker from [here](https://docs.docker.com/install/).\n",
    "\n",
    "The used console commands require Bash."
   ]
  },
  {
   "cell_type": "code",
   "execution_count": 20,
   "metadata": {},
   "outputs": [
    {
     "name": "stdout",
     "output_type": "stream",
     "text": [
      "Defaulting to user installation because normal site-packages is not writeable\n",
      "Requirement already satisfied: pyproj in /home/armin/.local/lib/python3.10/site-packages (3.6.1)\n",
      "Requirement already satisfied: certifi in /home/armin/.local/lib/python3.10/site-packages (from pyproj) (2023.5.7)\n"
     ]
    }
   ],
   "source": [
    "import os\n",
    "\n",
    "# Install via pip: pyproj\n",
    "import sys\n",
    "!{sys.executable} -m pip install pyproj\n",
    "from pyproj import Transformer, CRS\n",
    "\n",
    "import xml.etree.ElementTree as ET"
   ]
  },
  {
   "cell_type": "markdown",
   "metadata": {},
   "source": [
    "# Download OpenStreetMaps data for Schleswig-Holstein"
   ]
  },
  {
   "cell_type": "code",
   "execution_count": 9,
   "metadata": {},
   "outputs": [
    {
     "name": "stdout",
     "output_type": "stream",
     "text": [
      "schleswig-holstein-latest.osm.pbf already exists in /input folder\n",
      "MD5 hash of schleswig-holstein-latest.osm.pbf:\n",
      "b5c67d5f036a33d87d8a054048dc139b  ./input/schleswig-holstein-latest.osm.pbf\n",
      "File size of schleswig-holstein-latest.osm.pbf:\n",
      "-rw-r--r-- 1 armin armin 136M Jan 20 03:29 ./input/schleswig-holstein-latest.osm.pbf\n",
      "\u001b[92mDownload of schleswig-holstein-latest.osm.pbf completed\u001b[0m\n"
     ]
    }
   ],
   "source": [
    "# Download from http://download.geofabrik.de/europe/germany/schleswig-holstein-latest.osm.pbf if file does not exist in /input folder\n",
    "if not os.path.isfile('./input/schleswig-holstein-latest.osm.pbf'):\n",
    "    os.system('wget http://download.geofabrik.de/europe/germany/schleswig-holstein-latest.osm.pbf -P /input')\n",
    "    print('Downloaded schleswig-holstein-latest.osm.pbf from http://download.geofabrik.de/europe/germany/schleswig-holstein-latest.osm.pbf')\n",
    "else :\n",
    "    print('schleswig-holstein-latest.osm.pbf already exists in /input folder')\n",
    "\n",
    "# Print file size and MD5 hash\n",
    "print('MD5 hash of schleswig-holstein-latest.osm.pbf:')\n",
    "os.system('md5sum ./input/schleswig-holstein-latest.osm.pbf')\n",
    "print('File size of schleswig-holstein-latest.osm.pbf:')\n",
    "os.system('ls -lh ./input/schleswig-holstein-latest.osm.pbf')\n",
    "\n",
    "# Print green coloured success message\n",
    "print('\\033[92m' + 'Download of schleswig-holstein-latest.osm.pbf completed' + '\\033[0m')"
   ]
  },
  {
   "cell_type": "markdown",
   "metadata": {},
   "source": [
    "# Find bounding box for the area to be converted"
   ]
  },
  {
   "cell_type": "markdown",
   "metadata": {},
   "source": [
    "The bounding box coordinates need to be provided in the OSM coordinate system.\n",
    "You can find the bounding box coordinates for your area of interest at the following websites:\n",
    "- [Openstreetmap.org](https://www.openstreetmap.org/export#map=10/54.1870/9.9930): Zoom to your area of interest and copy the coordinates shown on the left side of the screen.\n",
    "- [boundingbox.klokantech.com](https://boundingbox.klokantech.com/): Select the area of interest with the movable box and use DublinCore on the bottom left side as the format to get the coordinates in an easily readable format."
   ]
  },
  {
   "cell_type": "code",
   "execution_count": 10,
   "metadata": {},
   "outputs": [],
   "source": [
    "# Set bounding box for Kiel\n",
    "top=54.408039\n",
    "left=10.001019\n",
    "bottom=54.251083\n",
    "right=10.228299"
   ]
  },
  {
   "cell_type": "markdown",
   "metadata": {},
   "source": [
    "# Reduce OSM data to the area of interest and remove unnecessary data using Osmosis"
   ]
  },
  {
   "cell_type": "markdown",
   "metadata": {},
   "source": [
    "Detailed information about the parameters used can be found in the [OSM Wiki](https://wiki.openstreetmap.org/wiki/Osmosis/Detailed_Usage_0.48)."
   ]
  },
  {
   "cell_type": "code",
   "execution_count": 12,
   "metadata": {},
   "outputs": [
    {
     "name": "stderr",
     "output_type": "stream",
     "text": [
      "Jan 21, 2024 5:44:11 PM org.openstreetmap.osmosis.core.Osmosis run\n",
      "INFO: Osmosis Version 0.46\n",
      "Jan 21, 2024 5:44:12 PM org.openstreetmap.osmosis.core.Osmosis run\n",
      "INFO: Preparing pipeline.\n",
      "Jan 21, 2024 5:44:12 PM org.openstreetmap.osmosis.core.Osmosis run\n",
      "INFO: Launching pipeline execution.\n",
      "Jan 21, 2024 5:44:12 PM org.openstreetmap.osmosis.core.Osmosis run\n",
      "INFO: Pipeline executing, waiting for completion.\n",
      "Jan 21, 2024 5:44:30 PM org.openstreetmap.osmosis.core.Osmosis run\n",
      "INFO: Pipeline complete.\n",
      "Jan 21, 2024 5:44:30 PM org.openstreetmap.osmosis.core.Osmosis run\n",
      "INFO: Total execution time: 18711 milliseconds.\n"
     ]
    },
    {
     "data": {
      "text/plain": [
       "0"
      ]
     },
     "execution_count": 12,
     "metadata": {},
     "output_type": "execute_result"
    }
   ],
   "source": [
    "# Execute Java Osmosis command to extract data from bounding box\n",
    "os.system('./vendor/osmosis/bin/osmosis --rb file=./input/schleswig-holstein-latest.osm.pbf --bounding-box top=' + str(top) + ' left=' + str(left) + ' bottom=' + str(bottom) + ' right=' + str(right) + ' --used-node --write-xml ./input/kiel.osm')"
   ]
  },
  {
   "cell_type": "markdown",
   "metadata": {},
   "source": [
    "# Convert reduced OSM dataset to MATSim network"
   ]
  },
  {
   "cell_type": "markdown",
   "metadata": {},
   "source": [
    "## Build Docker image"
   ]
  },
  {
   "cell_type": "markdown",
   "metadata": {},
   "source": [
    "Information on the deprecation message: https://docs.docker.com/engine/deprecated/#legacy-builder-fallback"
   ]
  },
  {
   "cell_type": "code",
   "execution_count": 29,
   "metadata": {},
   "outputs": [
    {
     "name": "stderr",
     "output_type": "stream",
     "text": [
      "failed to fetch metadata: fork/exec /usr/local/lib/docker/cli-plugins/docker-buildx: no such file or directory\n",
      "\n",
      "DEPRECATED: The legacy builder is deprecated and will be removed in a future release.\n",
      "            Install the buildx component to build images with BuildKit:\n",
      "            https://docs.docker.com/go/buildx/\n",
      "\n"
     ]
    },
    {
     "name": "stdout",
     "output_type": "stream",
     "text": [
      "Sending build context to Docker daemon  106.7MB\n",
      "Step 1/6 : FROM eclipse-temurin:8-jdk-jammy\n",
      " ---> c05a9a5ad465\n",
      "Step 2/6 : RUN mkdir /osm2matsim\n",
      " ---> Using cache\n",
      " ---> c7c7813d6879\n",
      "Step 3/6 : WORKDIR /osm2matsim\n",
      " ---> Using cache\n",
      " ---> 3216d8abfe80\n",
      "Step 4/6 : COPY . .\n",
      " ---> cb1cde973f73\n",
      "Step 5/6 : RUN javac -cp vendor/matsim-0.9.0/matsim-0.9.0.jar Osm2matsim.java\n",
      " ---> Running in 0efdce8c1937\n",
      " ---> Removed intermediate container 0efdce8c1937\n",
      " ---> 883e1d5b6ddf\n",
      "Step 6/6 : ENTRYPOINT [\"java\", \"-cp\", \"vendor/matsim-0.9.0/matsim-0.9.0.jar:.\", \"Osm2matsim\"]\n",
      " ---> Running in 1fdcd386f41c\n",
      " ---> Removed intermediate container 1fdcd386f41c\n",
      " ---> 0c4d405b916e\n",
      "Successfully built 0c4d405b916e\n",
      "Successfully tagged osm2matsim:latest\n"
     ]
    },
    {
     "data": {
      "text/plain": [
       "0"
      ]
     },
     "execution_count": 29,
     "metadata": {},
     "output_type": "execute_result"
    }
   ],
   "source": [
    "os.system('./bin/build.sh')"
   ]
  },
  {
   "cell_type": "markdown",
   "metadata": {},
   "source": [
    "## Convert using the Docker image"
   ]
  },
  {
   "cell_type": "code",
   "execution_count": 30,
   "metadata": {},
   "outputs": [
    {
     "name": "stdout",
     "output_type": "stream",
     "text": [
      "Converting input/kiel.osm into output/kiel.xml\n"
     ]
    },
    {
     "name": "stderr",
     "output_type": "stream",
     "text": [
      "2024-01-21 17:42:31,977  WARN MGC:175 Assuming that coordinates are in longitude first notation, i.e. (longitude, latitude).\n"
     ]
    },
    {
     "name": "stdout",
     "output_type": "stream",
     "text": [
      "2024-01-21 17:42:32,508  INFO Logger:? dataFileCache open start\n",
      "2024-01-21 17:42:32,847  INFO Config:131 context=[file:/osm2matsim/]\n",
      "2024-01-21 17:42:32,907  INFO Config:131 context=[file:/osm2matsim/]\n",
      "2024-01-21 17:42:32,922  INFO OsmNetworkReader:130 Falling back to default values.\n",
      "2024-01-21 17:42:32,925  INFO MatsimXmlParser:147 starting to parse xml from file input/kiel.osm ...\n",
      "2024-01-21 17:42:32,941  INFO Counter:61 node 1\n",
      "2024-01-21 17:42:32,941  INFO Counter:61 node 2\n",
      "2024-01-21 17:42:32,942  INFO Counter:61 node 4\n",
      "2024-01-21 17:42:32,944  INFO Counter:61 node 8\n",
      "2024-01-21 17:42:32,945  INFO Counter:61 node 16\n",
      "2024-01-21 17:42:32,948  INFO Counter:61 node 32\n",
      "2024-01-21 17:42:32,953  INFO Counter:61 node 64\n",
      "2024-01-21 17:42:32,960  INFO Counter:61 node 128\n",
      "2024-01-21 17:42:32,970  INFO Counter:61 node 256\n",
      "2024-01-21 17:42:32,989  INFO Counter:61 node 512\n",
      "2024-01-21 17:42:33,012  INFO Counter:61 node 1024\n",
      "2024-01-21 17:42:33,032  INFO Counter:61 node 2048\n"
     ]
    },
    {
     "name": "stderr",
     "output_type": "stream",
     "text": [
      "2024-01-21 17:42:32,923  WARN OsmNetworkReader:190 No hierarchy layer specified. Will convert every highway specified by setHighwayDefaults.\n"
     ]
    },
    {
     "name": "stdout",
     "output_type": "stream",
     "text": [
      "2024-01-21 17:42:33,063  INFO Counter:61 node 4096\n",
      "2024-01-21 17:42:33,116  INFO Counter:61 node 8192\n",
      "2024-01-21 17:42:33,190  INFO Counter:61 node 16384\n",
      "2024-01-21 17:42:33,311  INFO Counter:61 node 32768\n",
      "2024-01-21 17:42:33,457  INFO Counter:61 node 65536\n",
      "2024-01-21 17:42:33,744  INFO Counter:61 node 131072\n",
      "2024-01-21 17:42:34,291  INFO Counter:61 node 262144\n",
      "2024-01-21 17:42:35,362  INFO Counter:61 node 524288\n",
      "2024-01-21 17:42:35,759  INFO Counter:61 way 1\n",
      "2024-01-21 17:42:35,760  INFO Counter:61 way 2\n",
      "2024-01-21 17:42:35,761  INFO Counter:61 way 4\n",
      "2024-01-21 17:42:35,763  INFO Counter:61 way 8\n",
      "2024-01-21 17:42:35,765  INFO Counter:61 way 16\n",
      "2024-01-21 17:42:35,767  INFO Counter:61 way 32\n",
      "2024-01-21 17:42:35,769  INFO Counter:61 way 64\n",
      "2024-01-21 17:42:35,775  INFO Counter:61 way 128\n",
      "2024-01-21 17:42:35,783  INFO Counter:61 way 256\n",
      "2024-01-21 17:42:35,800  INFO Counter:61 way 512\n",
      "2024-01-21 17:42:35,843  INFO Counter:61 way 1024\n",
      "2024-01-21 17:42:35,930  INFO Counter:61 way 2048\n",
      "2024-01-21 17:42:36,217  INFO Counter:61 way 4096\n",
      "2024-01-21 17:42:38,283  INFO Counter:61 way 8192\n",
      "2024-01-21 17:42:38,478  INFO OsmNetworkReader:218 done loading data\n",
      "2024-01-21 17:42:38,479  INFO OsmNetworkReader:329 Remove ways that have at least one node that was not read previously ...\n",
      "2024-01-21 17:42:38,502  INFO OsmNetworkReader:341 ... done removing ways that have at least one node that was not read previously.\n",
      "2024-01-21 17:42:38,503  INFO OsmNetworkReader:343 Mark OSM nodes that shoud be kept ...\n",
      "2024-01-21 17:42:38,527  INFO OsmNetworkReader:371 ... done marking OSM nodes that shoud be kept.\n",
      "2024-01-21 17:42:38,528  INFO OsmNetworkReader:375 Mark nodes as unused where only one way leads through ...\n",
      "2024-01-21 17:42:38,565  INFO OsmNetworkReader:381 ... done marking nodes as unused where only one way leads through.\n",
      "2024-01-21 17:42:38,565  INFO OsmNetworkReader:383 Verify we did not mark nodes as unused that build a loop ...\n",
      "2024-01-21 17:42:38,582  INFO OsmNetworkReader:413 ... done verifying that we did not mark nodes as unused that build a loop.\n",
      "2024-01-21 17:42:38,583  INFO OsmNetworkReader:417 Create the required nodes ...\n",
      "2024-01-21 17:42:38,585  INFO NetworkImpl:156  node # 1\n",
      "2024-01-21 17:42:38,585  INFO NetworkImpl:156  node # 2\n",
      "2024-01-21 17:42:38,585  INFO NetworkImpl:156  node # 4\n",
      "2024-01-21 17:42:38,586  INFO NetworkImpl:156  node # 8\n",
      "2024-01-21 17:42:38,586  INFO NetworkImpl:156  node # 16\n",
      "2024-01-21 17:42:38,587  INFO NetworkImpl:156  node # 32\n",
      "2024-01-21 17:42:38,587  INFO NetworkImpl:156  node # 64\n",
      "2024-01-21 17:42:38,588  INFO NetworkImpl:156  node # 128\n",
      "2024-01-21 17:42:38,591  INFO NetworkImpl:156  node # 256\n",
      "2024-01-21 17:42:38,595  INFO NetworkImpl:156  node # 512\n",
      "2024-01-21 17:42:38,600  INFO NetworkImpl:156  node # 1024\n",
      "2024-01-21 17:42:38,608  INFO NetworkImpl:156  node # 2048\n",
      "2024-01-21 17:42:38,618  INFO NetworkImpl:156  node # 4096\n",
      "2024-01-21 17:42:38,634  INFO NetworkImpl:156  node # 8192\n",
      "2024-01-21 17:42:38,637  INFO OsmNetworkReader:424 ... done creating the required nodes.\n",
      "2024-01-21 17:42:38,637  INFO OsmNetworkReader:426 Create the links ...\n",
      "2024-01-21 17:42:38,641  INFO NetworkImpl:152  link # 1\n",
      "2024-01-21 17:42:38,641  INFO NetworkImpl:152  link # 2\n",
      "2024-01-21 17:42:38,642  INFO NetworkImpl:152  link # 4\n",
      "2024-01-21 17:42:38,642  INFO NetworkImpl:152  link # 8\n",
      "2024-01-21 17:42:38,643  INFO NetworkImpl:152  link # 16\n",
      "2024-01-21 17:42:38,645  INFO NetworkImpl:152  link # 32\n",
      "2024-01-21 17:42:38,646  INFO NetworkImpl:152  link # 64\n",
      "2024-01-21 17:42:38,650  INFO NetworkImpl:152  link # 128\n",
      "2024-01-21 17:42:38,654  INFO NetworkImpl:152  link # 256\n",
      "2024-01-21 17:42:38,663  INFO NetworkImpl:152  link # 512\n",
      "2024-01-21 17:42:38,676  INFO NetworkImpl:152  link # 1024\n",
      "2024-01-21 17:42:38,684  INFO NetworkImpl:152  link # 2048\n",
      "2024-01-21 17:42:38,695  INFO NetworkImpl:152  link # 4096\n"
     ]
    },
    {
     "name": "stderr",
     "output_type": "stream",
     "text": [
      "2024-01-21 17:42:38,644  WARN LinkImpl:140 [permlanes=0.5 of link id 30 may cause problems]\n",
      "2024-01-21 17:42:38,644  WARN LinkImpl:142  Future occurences of this logging statement are suppressed.\n",
      "2024-01-21 17:42:38,702  WARN OsmNetworkReader:539 Could not parse maxspeed tag:For input string: \"none\". Ignoring it.\n",
      "2024-01-21 17:42:38,745  WARN OsmNetworkReader:539 Could not parse maxspeed tag:For input string: \"walk\". Ignoring it.\n"
     ]
    },
    {
     "name": "stdout",
     "output_type": "stream",
     "text": [
      "2024-01-21 17:42:38,714  INFO NetworkImpl:152  link # 8192\n",
      "2024-01-21 17:42:38,752  INFO NetworkImpl:152  link # 16384\n",
      "2024-01-21 17:42:38,762  INFO OsmNetworkReader:465 ... done creating the links.\n",
      "2024-01-21 17:42:38,766  INFO OsmNetworkReader:221 = conversion statistics: ==========================\n",
      "2024-01-21 17:42:38,766  INFO OsmNetworkReader:222 osm: # nodes read:       624839\n",
      "2024-01-21 17:42:38,767  INFO OsmNetworkReader:223 osm: # ways read:        8467\n",
      "2024-01-21 17:42:38,767  INFO OsmNetworkReader:224 MATSim: # nodes created: 9172\n",
      "2024-01-21 17:42:38,767  INFO OsmNetworkReader:225 MATSim: # links created: 18794\n",
      "2024-01-21 17:42:38,767  INFO OsmNetworkReader:233 = end of conversion statistics ====================\n",
      "2024-01-21 17:42:38,768  INFO NetworkCleaner:118 running org.matsim.core.network.algorithms.NetworkCleaner algorithm...\n",
      "2024-01-21 17:42:38,768  INFO NetworkCleaner:121   checking 9172 nodes and 18794 links for dead-ends...\n",
      "2024-01-21 17:42:38,822  INFO NetworkCleaner:139     The biggest cluster consists of 8883 nodes.\n",
      "2024-01-21 17:42:38,822  INFO NetworkCleaner:140   done.\n",
      "2024-01-21 17:42:38,834  INFO NetworkCleaner:155   resulting network contains 8883 nodes and 18279 links.\n",
      "2024-01-21 17:42:38,839  INFO NetworkCleaner:157 done.\n"
     ]
    },
    {
     "data": {
      "text/plain": [
       "0"
      ]
     },
     "execution_count": 30,
     "metadata": {},
     "output_type": "execute_result"
    }
   ],
   "source": [
    "os.system('./bin/convert.sh input/kiel.osm output/kiel.xml')"
   ]
  },
  {
   "cell_type": "markdown",
   "metadata": {},
   "source": []
  },
  {
   "cell_type": "markdown",
   "metadata": {},
   "source": [
    "# Convert coordinates in MATSim network to the coordinate system used by the simulation"
   ]
  },
  {
   "cell_type": "markdown",
   "metadata": {},
   "source": [
    "The conversion is based on the coordinate system set for the TransformationFactory in Osm2matsim.java.\n",
    "If using the following line, the code below will work without any changes:\n",
    "```\n",
    "CoordinateTransformation ct = TransformationFactory.getCoordinateTransformation(TransformationFactory.WGS84, TransformationFactory.WGS84_UTM33N);\n",
    "```"
   ]
  },
  {
   "cell_type": "code",
   "execution_count": 34,
   "metadata": {},
   "outputs": [
    {
     "name": "stderr",
     "output_type": "stream",
     "text": [
      "Converting coordinates:   0%|          | 5/8883 [00:00<03:40, 40.19it/s]"
     ]
    },
    {
     "name": "stdout",
     "output_type": "stream",
     "text": [
      "Progress: 0.01%\n"
     ]
    },
    {
     "name": "stderr",
     "output_type": "stream",
     "text": [
      "Converting coordinates:   5%|▌         | 451/8883 [00:09<02:55, 48.10it/s]"
     ]
    },
    {
     "name": "stdout",
     "output_type": "stream",
     "text": [
      "Progress: 5.01%\n"
     ]
    },
    {
     "name": "stderr",
     "output_type": "stream",
     "text": [
      "Converting coordinates:  10%|█         | 894/8883 [00:18<02:55, 45.46it/s]"
     ]
    },
    {
     "name": "stdout",
     "output_type": "stream",
     "text": [
      "Progress: 10.01%\n"
     ]
    },
    {
     "name": "stderr",
     "output_type": "stream",
     "text": [
      "Converting coordinates:  15%|█▌        | 1339/8883 [00:27<02:31, 49.76it/s]"
     ]
    },
    {
     "name": "stdout",
     "output_type": "stream",
     "text": [
      "Progress: 15.01%\n"
     ]
    },
    {
     "name": "stderr",
     "output_type": "stream",
     "text": [
      "Converting coordinates:  20%|██        | 1785/8883 [00:36<02:24, 49.16it/s]"
     ]
    },
    {
     "name": "stdout",
     "output_type": "stream",
     "text": [
      "Progress: 20.00%\n"
     ]
    },
    {
     "name": "stderr",
     "output_type": "stream",
     "text": [
      "Converting coordinates:  25%|██▌       | 2230/8883 [00:45<02:17, 48.49it/s]"
     ]
    },
    {
     "name": "stdout",
     "output_type": "stream",
     "text": [
      "Progress: 25.00%\n"
     ]
    },
    {
     "name": "stderr",
     "output_type": "stream",
     "text": [
      "Converting coordinates:  30%|███       | 2671/8883 [00:54<02:06, 49.04it/s]"
     ]
    },
    {
     "name": "stdout",
     "output_type": "stream",
     "text": [
      "Progress: 30.00%\n"
     ]
    },
    {
     "name": "stderr",
     "output_type": "stream",
     "text": [
      "Converting coordinates:  35%|███▌      | 3116/8883 [01:03<02:06, 45.49it/s]"
     ]
    },
    {
     "name": "stdout",
     "output_type": "stream",
     "text": [
      "Progress: 35.00%\n"
     ]
    },
    {
     "name": "stderr",
     "output_type": "stream",
     "text": [
      "Converting coordinates:  40%|████      | 3562/8883 [01:12<01:51, 47.81it/s]"
     ]
    },
    {
     "name": "stdout",
     "output_type": "stream",
     "text": [
      "Progress: 40.00%\n"
     ]
    },
    {
     "name": "stderr",
     "output_type": "stream",
     "text": [
      "Converting coordinates:  45%|████▌     | 4007/8883 [01:21<01:38, 49.74it/s]"
     ]
    },
    {
     "name": "stdout",
     "output_type": "stream",
     "text": [
      "Progress: 45.00%\n"
     ]
    },
    {
     "name": "stderr",
     "output_type": "stream",
     "text": [
      "Converting coordinates:  50%|█████     | 4445/8883 [01:30<01:35, 46.70it/s]"
     ]
    },
    {
     "name": "stdout",
     "output_type": "stream",
     "text": [
      "Progress: 49.99%\n"
     ]
    },
    {
     "name": "stderr",
     "output_type": "stream",
     "text": [
      "Converting coordinates:  55%|█████▌    | 4889/8883 [01:40<01:40, 39.94it/s]"
     ]
    },
    {
     "name": "stdout",
     "output_type": "stream",
     "text": [
      "Progress: 54.99%\n"
     ]
    },
    {
     "name": "stderr",
     "output_type": "stream",
     "text": [
      "Converting coordinates:  60%|██████    | 5336/8883 [01:49<01:11, 49.77it/s]"
     ]
    },
    {
     "name": "stdout",
     "output_type": "stream",
     "text": [
      "Progress: 59.99%\n"
     ]
    },
    {
     "name": "stderr",
     "output_type": "stream",
     "text": [
      "Converting coordinates:  65%|██████▌   | 5781/8883 [01:58<01:08, 45.47it/s]"
     ]
    },
    {
     "name": "stdout",
     "output_type": "stream",
     "text": [
      "Progress: 64.99%\n"
     ]
    },
    {
     "name": "stderr",
     "output_type": "stream",
     "text": [
      "Converting coordinates:  70%|███████   | 6225/8883 [02:08<00:53, 49.40it/s]"
     ]
    },
    {
     "name": "stdout",
     "output_type": "stream",
     "text": [
      "Progress: 69.99%\n"
     ]
    },
    {
     "name": "stderr",
     "output_type": "stream",
     "text": [
      "Converting coordinates:  75%|███████▌  | 6669/8883 [02:17<00:45, 48.61it/s]"
     ]
    },
    {
     "name": "stdout",
     "output_type": "stream",
     "text": [
      "Progress: 74.99%\n"
     ]
    },
    {
     "name": "stderr",
     "output_type": "stream",
     "text": [
      "Converting coordinates:  80%|████████  | 7110/8883 [02:26<00:38, 46.65it/s]"
     ]
    },
    {
     "name": "stdout",
     "output_type": "stream",
     "text": [
      "Progress: 79.98%\n"
     ]
    },
    {
     "name": "stderr",
     "output_type": "stream",
     "text": [
      "Converting coordinates:  85%|████████▌ | 7555/8883 [02:36<00:31, 42.13it/s]"
     ]
    },
    {
     "name": "stdout",
     "output_type": "stream",
     "text": [
      "Progress: 84.98%\n"
     ]
    },
    {
     "name": "stderr",
     "output_type": "stream",
     "text": [
      "Converting coordinates:  90%|█████████ | 7998/8883 [02:45<00:19, 44.68it/s]"
     ]
    },
    {
     "name": "stdout",
     "output_type": "stream",
     "text": [
      "Progress: 89.98%\n"
     ]
    },
    {
     "name": "stderr",
     "output_type": "stream",
     "text": [
      "Converting coordinates:  95%|█████████▌| 8445/8883 [02:54<00:09, 46.78it/s]"
     ]
    },
    {
     "name": "stdout",
     "output_type": "stream",
     "text": [
      "Progress: 94.98%\n"
     ]
    },
    {
     "name": "stderr",
     "output_type": "stream",
     "text": [
      "Converting coordinates: 100%|██████████| 8883/8883 [03:04<00:00, 48.23it/s]\n"
     ]
    },
    {
     "name": "stdout",
     "output_type": "stream",
     "text": [
      "Progress: 99.98%\n",
      "Coordinate conversion completed. Output saved to ./output/kiel_converted_EPSG25832.xml\n"
     ]
    }
   ],
   "source": [
    "import sys\n",
    "import time\n",
    "from tqdm import tqdm\n",
    "# Load the XML file\n",
    "xml_file = \"./output/kiel.xml\"\n",
    "tree = ET.parse(xml_file)\n",
    "root = tree.getroot()\n",
    "\n",
    "# Define coordinate transformation functions\n",
    "def epsg32633_to_epsg25832(lon, lat):\n",
    "    transformer = Transformer.from_crs(CRS.from_epsg(32633), CRS.from_epsg(25832), always_xy=True)\n",
    "    x, y = transformer.transform(lon, lat)\n",
    "    return x, y\n",
    "\n",
    "# Get the total number of nodes\n",
    "total_nodes = len(root.findall('.//node'))\n",
    "\n",
    "# Parse and update node coordinates\n",
    "progress_step = total_nodes // 10  # 10% steps\n",
    "for i, node in enumerate(tqdm(root.findall('.//node'), total=total_nodes, desc='Converting coordinates')):\n",
    "    lon = float(node.attrib['x'])\n",
    "    lat = float(node.attrib['y'])\n",
    "    x, y = epsg32633_to_epsg25832(lon, lat)\n",
    "    node.attrib['x'] = str(x)\n",
    "    node.attrib['y'] = str(y)\n",
    "    \n",
    "    # Print progress in 10% steps\n",
    "    if i % progress_step == 0:\n",
    "        progress = (i + 1) / total_nodes * 100\n",
    "        tqdm.write(f\"Progress: {progress:.2f}%\")\n",
    "\n",
    "# Save the modified XML file\n",
    "output_file = \"./output/kiel_converted_EPSG25832.xml\"\n",
    "# Ensure custom DOCTYPE is used: <!DOCTYPE network SYSTEM \"http://www.matsim.org/files/dtd/network_v2.dtd\">\n",
    "# Otherwise, MATSim will not be able to read the file\n",
    "tree.write(output_file, encoding='utf-8', xml_declaration=True, doctype='<!DOCTYPE network SYSTEM \"http://www.matsim.org/files/dtd/network_v2.dtd\">')\n",
    "\n",
    "print(f\"Coordinate conversion completed. Output saved to {output_file}\")\n"
   ]
  },
  {
   "cell_type": "markdown",
   "metadata": {},
   "source": [
    "# Preview network"
   ]
  },
  {
   "cell_type": "markdown",
   "metadata": {},
   "source": [
    "To preview the network, you can use the MATSim network editor:\n",
    "``` ./bin/edit_network.sh ```"
   ]
  },
  {
   "cell_type": "markdown",
   "metadata": {},
   "source": []
  }
 ],
 "metadata": {
  "kernelspec": {
   "display_name": "Python 3",
   "language": "python",
   "name": "python3"
  },
  "language_info": {
   "codemirror_mode": {
    "name": "ipython",
    "version": 3
   },
   "file_extension": ".py",
   "mimetype": "text/x-python",
   "name": "python",
   "nbconvert_exporter": "python",
   "pygments_lexer": "ipython3",
   "version": "3.10.12"
  }
 },
 "nbformat": 4,
 "nbformat_minor": 2
}
