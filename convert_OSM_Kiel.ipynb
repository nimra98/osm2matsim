{
 "cells": [
  {
   "cell_type": "markdown",
   "metadata": {},
   "source": [
    "# Prerequisites"
   ]
  },
  {
   "cell_type": "markdown",
   "metadata": {},
   "source": [
    "This converter relies on Docker for the abstraction of the environment. You can install Docker from [here](https://docs.docker.com/install/).\n",
    "\n",
    "The used console commands require Bash."
   ]
  },
  {
   "cell_type": "code",
   "execution_count": 1,
   "metadata": {},
   "outputs": [
    {
     "name": "stdout",
     "output_type": "stream",
     "text": [
      "Defaulting to user installation because normal site-packages is not writeable\n",
      "Requirement already satisfied: pyproj in /home/armin/.local/lib/python3.10/site-packages (3.6.1)\n",
      "Requirement already satisfied: certifi in /home/armin/.local/lib/python3.10/site-packages (from pyproj) (2023.5.7)\n"
     ]
    }
   ],
   "source": [
    "import os\n",
    "\n",
    "# Install via pip: pyproj\n",
    "import sys\n",
    "!{sys.executable} -m pip install pyproj\n",
    "from pyproj import Transformer, CRS\n",
    "\n",
    "import xml.etree.ElementTree as ET"
   ]
  },
  {
   "cell_type": "markdown",
   "metadata": {},
   "source": [
    "# Download OpenStreetMaps data for Schleswig-Holstein"
   ]
  },
  {
   "cell_type": "code",
   "execution_count": 2,
   "metadata": {},
   "outputs": [
    {
     "name": "stdout",
     "output_type": "stream",
     "text": [
      "schleswig-holstein-latest.osm.pbf already exists in /input folder\n",
      "MD5 hash of schleswig-holstein-latest.osm.pbf:\n",
      "b5c67d5f036a33d87d8a054048dc139b  ./input/schleswig-holstein-latest.osm.pbf\n",
      "File size of schleswig-holstein-latest.osm.pbf:\n",
      "-rw-r--r-- 1 armin armin 136M Jan 20 03:29 ./input/schleswig-holstein-latest.osm.pbf\n",
      "\u001b[92mDownload of schleswig-holstein-latest.osm.pbf completed\u001b[0m\n"
     ]
    }
   ],
   "source": [
    "# Download from http://download.geofabrik.de/europe/germany/schleswig-holstein-latest.osm.pbf if file does not exist in /input folder\n",
    "if not os.path.isfile('./input/schleswig-holstein-latest.osm.pbf'):\n",
    "    os.system('wget http://download.geofabrik.de/europe/germany/schleswig-holstein-latest.osm.pbf -P /input')\n",
    "    print('Downloaded schleswig-holstein-latest.osm.pbf from http://download.geofabrik.de/europe/germany/schleswig-holstein-latest.osm.pbf')\n",
    "else :\n",
    "    print('schleswig-holstein-latest.osm.pbf already exists in /input folder')\n",
    "\n",
    "# Print file size and MD5 hash\n",
    "print('MD5 hash of schleswig-holstein-latest.osm.pbf:')\n",
    "os.system('md5sum ./input/schleswig-holstein-latest.osm.pbf')\n",
    "print('File size of schleswig-holstein-latest.osm.pbf:')\n",
    "os.system('ls -lh ./input/schleswig-holstein-latest.osm.pbf')\n",
    "\n",
    "# Print green coloured success message\n",
    "print('\\033[92m' + 'Download of schleswig-holstein-latest.osm.pbf completed' + '\\033[0m')"
   ]
  },
  {
   "cell_type": "markdown",
   "metadata": {},
   "source": [
    "# Find bounding box for the area to be converted"
   ]
  },
  {
   "cell_type": "markdown",
   "metadata": {},
   "source": [
    "The bounding box coordinates need to be provided in the OSM coordinate system.\n",
    "You can find the bounding box coordinates for your area of interest at the following websites:\n",
    "- [Openstreetmap.org](https://www.openstreetmap.org/export#map=10/54.1870/9.9930): Zoom to your area of interest and copy the coordinates shown on the left side of the screen.\n",
    "- [boundingbox.klokantech.com](https://boundingbox.klokantech.com/): Select the area of interest with the movable box and use DublinCore on the bottom left side as the format to get the coordinates in an easily readable format."
   ]
  },
  {
   "cell_type": "code",
   "execution_count": 3,
   "metadata": {},
   "outputs": [],
   "source": [
    "# Set bounding box for Kiel (include Strande!)\n",
    "top=54.4896\n",
    "left=9.9152\n",
    "bottom=54.1938\n",
    "right=10.4343"
   ]
  },
  {
   "cell_type": "markdown",
   "metadata": {},
   "source": [
    "# Reduce OSM data to the area of interest and remove unnecessary data using Osmosis"
   ]
  },
  {
   "cell_type": "markdown",
   "metadata": {},
   "source": [
    "Detailed information about the parameters used can be found in the [OSM Wiki](https://wiki.openstreetmap.org/wiki/Osmosis/Detailed_Usage_0.48)."
   ]
  },
  {
   "cell_type": "code",
   "execution_count": 4,
   "metadata": {},
   "outputs": [
    {
     "name": "stderr",
     "output_type": "stream",
     "text": [
      "Mar 11, 2024 12:26:14 PM org.openstreetmap.osmosis.core.Osmosis run\n",
      "INFO: Osmosis Version 0.46\n",
      "Mar 11, 2024 12:26:15 PM org.openstreetmap.osmosis.core.Osmosis run\n",
      "INFO: Preparing pipeline.\n",
      "Mar 11, 2024 12:26:15 PM org.openstreetmap.osmosis.core.Osmosis run\n",
      "INFO: Launching pipeline execution.\n",
      "Mar 11, 2024 12:26:15 PM org.openstreetmap.osmosis.core.Osmosis run\n",
      "INFO: Pipeline executing, waiting for completion.\n",
      "Mar 11, 2024 12:26:42 PM org.openstreetmap.osmosis.core.Osmosis run\n",
      "INFO: Pipeline complete.\n",
      "Mar 11, 2024 12:26:42 PM org.openstreetmap.osmosis.core.Osmosis run\n",
      "INFO: Total execution time: 28100 milliseconds.\n"
     ]
    },
    {
     "data": {
      "text/plain": [
       "0"
      ]
     },
     "execution_count": 4,
     "metadata": {},
     "output_type": "execute_result"
    }
   ],
   "source": [
    "# Execute Java Osmosis command to extract data from bounding box\n",
    "os.system('./vendor/osmosis/bin/osmosis --rb file=./input/schleswig-holstein-latest.osm.pbf --bounding-box top=' + str(top) + ' left=' + str(left) + ' bottom=' + str(bottom) + ' right=' + str(right) + ' --used-node --write-xml ./input/kiel.osm')"
   ]
  },
  {
   "cell_type": "markdown",
   "metadata": {},
   "source": [
    "# Convert reduced OSM dataset to MATSim network"
   ]
  },
  {
   "cell_type": "markdown",
   "metadata": {},
   "source": [
    "## Build Docker image"
   ]
  },
  {
   "cell_type": "markdown",
   "metadata": {},
   "source": [
    "Information on the deprecation message: https://docs.docker.com/engine/deprecated/#legacy-builder-fallback"
   ]
  },
  {
   "cell_type": "code",
   "execution_count": 5,
   "metadata": {},
   "outputs": [
    {
     "name": "stderr",
     "output_type": "stream",
     "text": [
      "failed to fetch metadata: fork/exec /usr/local/lib/docker/cli-plugins/docker-buildx: no such file or directory\n",
      "\n",
      "DEPRECATED: The legacy builder is deprecated and will be removed in a future release.\n",
      "            Install the buildx component to build images with BuildKit:\n",
      "            https://docs.docker.com/go/buildx/\n",
      "\n"
     ]
    },
    {
     "name": "stdout",
     "output_type": "stream",
     "text": [
      "Sending build context to Docker daemon  120.2MB\n",
      "Step 1/6 : FROM eclipse-temurin:8-jdk-jammy\n",
      " ---> c05a9a5ad465\n",
      "Step 2/6 : RUN mkdir /osm2matsim\n",
      " ---> Running in ddd018c1e945\n",
      " ---> Removed intermediate container ddd018c1e945\n",
      " ---> c684e583cc99\n",
      "Step 3/6 : WORKDIR /osm2matsim\n",
      " ---> Running in 54f1f9e31ba8\n",
      " ---> Removed intermediate container 54f1f9e31ba8\n",
      " ---> dd80b794acec\n",
      "Step 4/6 : COPY . .\n",
      " ---> 6cf2c2fdd7ed\n",
      "Step 5/6 : RUN javac -cp vendor/matsim-0.9.0/matsim-0.9.0.jar Osm2matsim.java\n",
      " ---> Running in 273e8c902f6f\n",
      " ---> Removed intermediate container 273e8c902f6f\n",
      " ---> 560030f0e0cb\n",
      "Step 6/6 : ENTRYPOINT [\"java\", \"-cp\", \"vendor/matsim-0.9.0/matsim-0.9.0.jar:.\", \"Osm2matsim\"]\n",
      " ---> Running in bee906af76b8\n",
      " ---> Removed intermediate container bee906af76b8\n",
      " ---> 4f280cda339c\n",
      "Successfully built 4f280cda339c\n",
      "Successfully tagged osm2matsim:latest\n"
     ]
    },
    {
     "data": {
      "text/plain": [
       "0"
      ]
     },
     "execution_count": 5,
     "metadata": {},
     "output_type": "execute_result"
    }
   ],
   "source": [
    "os.system('./bin/build.sh')"
   ]
  },
  {
   "cell_type": "markdown",
   "metadata": {},
   "source": [
    "## Convert using the Docker image"
   ]
  },
  {
   "cell_type": "code",
   "execution_count": 6,
   "metadata": {},
   "outputs": [
    {
     "name": "stdout",
     "output_type": "stream",
     "text": [
      "Converting input/kiel.osm into output/kiel.xml\n"
     ]
    },
    {
     "name": "stderr",
     "output_type": "stream",
     "text": [
      "2024-03-11 11:27:19,267  WARN MGC:175 Assuming that coordinates are in longitude first notation, i.e. (longitude, latitude).\n"
     ]
    },
    {
     "name": "stdout",
     "output_type": "stream",
     "text": [
      "2024-03-11 11:27:19,783  INFO Logger:? dataFileCache open start\n",
      "2024-03-11 11:27:20,104  INFO Config:131 context=[file:/osm2matsim/]\n",
      "2024-03-11 11:27:20,168  INFO Config:131 context=[file:/osm2matsim/]\n",
      "2024-03-11 11:27:20,187  INFO OsmNetworkReader:130 Falling back to default values.\n",
      "2024-03-11 11:27:20,190  INFO MatsimXmlParser:147 starting to parse xml from file input/kiel.osm ...\n",
      "2024-03-11 11:27:20,206  INFO Counter:61 node 1\n",
      "2024-03-11 11:27:20,207  INFO Counter:61 node 2\n",
      "2024-03-11 11:27:20,208  INFO Counter:61 node 4\n",
      "2024-03-11 11:27:20,209  INFO Counter:61 node 8\n",
      "2024-03-11 11:27:20,211  INFO Counter:61 node 16\n",
      "2024-03-11 11:27:20,214  INFO Counter:61 node 32\n",
      "2024-03-11 11:27:20,220  INFO Counter:61 node 64\n",
      "2024-03-11 11:27:20,227  INFO Counter:61 node 128\n",
      "2024-03-11 11:27:20,244  INFO Counter:61 node 256\n",
      "2024-03-11 11:27:20,269  INFO Counter:61 node 512\n",
      "2024-03-11 11:27:20,296  INFO Counter:61 node 1024\n"
     ]
    },
    {
     "name": "stderr",
     "output_type": "stream",
     "text": [
      "2024-03-11 11:27:20,188  WARN OsmNetworkReader:190 No hierarchy layer specified. Will convert every highway specified by setHighwayDefaults.\n"
     ]
    },
    {
     "name": "stdout",
     "output_type": "stream",
     "text": [
      "2024-03-11 11:27:20,341  INFO Counter:61 node 2048\n",
      "2024-03-11 11:27:20,393  INFO Counter:61 node 4096\n",
      "2024-03-11 11:27:20,499  INFO Counter:61 node 8192\n",
      "2024-03-11 11:27:20,589  INFO Counter:61 node 16384\n",
      "2024-03-11 11:27:20,684  INFO Counter:61 node 32768\n",
      "2024-03-11 11:27:20,786  INFO Counter:61 node 65536\n",
      "2024-03-11 11:27:20,983  INFO Counter:61 node 131072\n",
      "2024-03-11 11:27:21,387  INFO Counter:61 node 262144\n",
      "2024-03-11 11:27:22,216  INFO Counter:61 node 524288\n",
      "2024-03-11 11:27:30,687  INFO Counter:61 node 1048576\n",
      "2024-03-11 11:27:31,138  INFO Counter:61 way 1\n",
      "2024-03-11 11:27:31,139  INFO Counter:61 way 2\n",
      "2024-03-11 11:27:31,140  INFO Counter:61 way 4\n",
      "2024-03-11 11:27:31,142  INFO Counter:61 way 8\n",
      "2024-03-11 11:27:31,145  INFO Counter:61 way 16\n",
      "2024-03-11 11:27:31,148  INFO Counter:61 way 32\n",
      "2024-03-11 11:27:31,150  INFO Counter:61 way 64\n",
      "2024-03-11 11:27:31,155  INFO Counter:61 way 128\n",
      "2024-03-11 11:27:31,168  INFO Counter:61 way 256\n",
      "2024-03-11 11:27:31,184  INFO Counter:61 way 512\n",
      "2024-03-11 11:27:31,212  INFO Counter:61 way 1024\n",
      "2024-03-11 11:27:31,247  INFO Counter:61 way 2048\n",
      "2024-03-11 11:27:31,346  INFO Counter:61 way 4096\n",
      "2024-03-11 11:27:31,945  INFO Counter:61 way 8192\n",
      "2024-03-11 11:27:34,639  INFO OsmNetworkReader:218 done loading data\n",
      "2024-03-11 11:27:34,639  INFO OsmNetworkReader:329 Remove ways that have at least one node that was not read previously ...\n",
      "2024-03-11 11:27:34,674  INFO OsmNetworkReader:341 ... done removing ways that have at least one node that was not read previously.\n",
      "2024-03-11 11:27:34,674  INFO OsmNetworkReader:343 Mark OSM nodes that shoud be kept ...\n",
      "2024-03-11 11:27:34,708  INFO OsmNetworkReader:371 ... done marking OSM nodes that shoud be kept.\n",
      "2024-03-11 11:27:34,708  INFO OsmNetworkReader:375 Mark nodes as unused where only one way leads through ...\n",
      "2024-03-11 11:27:34,775  INFO OsmNetworkReader:381 ... done marking nodes as unused where only one way leads through.\n",
      "2024-03-11 11:27:34,775  INFO OsmNetworkReader:383 Verify we did not mark nodes as unused that build a loop ...\n",
      "2024-03-11 11:27:34,807  INFO OsmNetworkReader:413 ... done verifying that we did not mark nodes as unused that build a loop.\n",
      "2024-03-11 11:27:34,807  INFO OsmNetworkReader:417 Create the required nodes ...\n",
      "2024-03-11 11:27:34,809  INFO NetworkImpl:156  node # 1\n",
      "2024-03-11 11:27:34,810  INFO NetworkImpl:156  node # 2\n",
      "2024-03-11 11:27:34,810  INFO NetworkImpl:156  node # 4\n",
      "2024-03-11 11:27:34,810  INFO NetworkImpl:156  node # 8\n",
      "2024-03-11 11:27:34,811  INFO NetworkImpl:156  node # 16\n",
      "2024-03-11 11:27:34,811  INFO NetworkImpl:156  node # 32\n",
      "2024-03-11 11:27:34,812  INFO NetworkImpl:156  node # 64\n",
      "2024-03-11 11:27:34,813  INFO NetworkImpl:156  node # 128\n",
      "2024-03-11 11:27:34,816  INFO NetworkImpl:156  node # 256\n",
      "2024-03-11 11:27:34,820  INFO NetworkImpl:156  node # 512\n",
      "2024-03-11 11:27:34,824  INFO NetworkImpl:156  node # 1024\n",
      "2024-03-11 11:27:34,832  INFO NetworkImpl:156  node # 2048\n",
      "2024-03-11 11:27:34,853  INFO NetworkImpl:156  node # 4096\n",
      "2024-03-11 11:27:34,889  INFO NetworkImpl:156  node # 8192\n",
      "2024-03-11 11:27:34,915  INFO OsmNetworkReader:424 ... done creating the required nodes.\n",
      "2024-03-11 11:27:34,915  INFO OsmNetworkReader:426 Create the links ...\n",
      "2024-03-11 11:27:34,917  INFO NetworkImpl:152  link # 1\n",
      "2024-03-11 11:27:34,918  INFO NetworkImpl:152  link # 2\n",
      "2024-03-11 11:27:34,918  INFO NetworkImpl:152  link # 4\n",
      "2024-03-11 11:27:34,918  INFO NetworkImpl:152  link # 8\n",
      "2024-03-11 11:27:34,919  INFO NetworkImpl:152  link # 16\n",
      "2024-03-11 11:27:34,920  INFO NetworkImpl:152  link # 32\n",
      "2024-03-11 11:27:34,921  INFO NetworkImpl:152  link # 64\n",
      "2024-03-11 11:27:34,924  INFO NetworkImpl:152  link # 128\n",
      "2024-03-11 11:27:34,928  INFO NetworkImpl:152  link # 256\n",
      "2024-03-11 11:27:34,935  INFO NetworkImpl:152  link # 512\n",
      "2024-03-11 11:27:34,944  INFO NetworkImpl:152  link # 1024\n",
      "2024-03-11 11:27:34,954  INFO NetworkImpl:152  link # 2048\n",
      "2024-03-11 11:27:34,962  INFO NetworkImpl:152  link # 4096\n",
      "2024-03-11 11:27:34,982  INFO NetworkImpl:152  link # 8192\n",
      "2024-03-11 11:27:35,010  INFO NetworkImpl:152  link # 16384\n"
     ]
    },
    {
     "name": "stderr",
     "output_type": "stream",
     "text": [
      "2024-03-11 11:27:34,924  WARN LinkImpl:140 [permlanes=0.5 of link id 126 may cause problems]\n",
      "2024-03-11 11:27:34,924  WARN LinkImpl:142  Future occurences of this logging statement are suppressed.\n",
      "2024-03-11 11:27:34,970  WARN OsmNetworkReader:539 Could not parse maxspeed tag:For input string: \"walk\". Ignoring it.\n",
      "2024-03-11 11:27:34,971  WARN OsmNetworkReader:539 Could not parse maxspeed tag:For input string: \"none\". Ignoring it.\n"
     ]
    },
    {
     "name": "stdout",
     "output_type": "stream",
     "text": [
      "2024-03-11 11:27:35,075  INFO NetworkImpl:152  link # 32768\n",
      "2024-03-11 11:27:35,076  INFO OsmNetworkReader:465 ... done creating the links.\n",
      "2024-03-11 11:27:35,080  INFO OsmNetworkReader:221 = conversion statistics: ==========================\n",
      "2024-03-11 11:27:35,081  INFO OsmNetworkReader:222 osm: # nodes read:       1186005\n",
      "2024-03-11 11:27:35,081  INFO OsmNetworkReader:223 osm: # ways read:        13665\n",
      "2024-03-11 11:27:35,081  INFO OsmNetworkReader:224 MATSim: # nodes created: 15573\n",
      "2024-03-11 11:27:35,081  INFO OsmNetworkReader:225 MATSim: # links created: 32920\n",
      "2024-03-11 11:27:35,082  INFO OsmNetworkReader:233 = end of conversion statistics ====================\n",
      "2024-03-11 11:27:35,083  INFO NetworkCleaner:118 running org.matsim.core.network.algorithms.NetworkCleaner algorithm...\n",
      "2024-03-11 11:27:35,083  INFO NetworkCleaner:121   checking 15573 nodes and 32920 links for dead-ends...\n",
      "2024-03-11 11:27:35,159  INFO NetworkCleaner:139     The biggest cluster consists of 15399 nodes.\n",
      "2024-03-11 11:27:35,168  INFO NetworkCleaner:140   done.\n",
      "2024-03-11 11:27:35,188  INFO NetworkCleaner:155   resulting network contains 15399 nodes and 32646 links.\n",
      "2024-03-11 11:27:35,188  INFO NetworkCleaner:157 done.\n"
     ]
    },
    {
     "data": {
      "text/plain": [
       "0"
      ]
     },
     "execution_count": 6,
     "metadata": {},
     "output_type": "execute_result"
    }
   ],
   "source": [
    "os.system('./bin/convert.sh input/kiel.osm output/kiel.xml')"
   ]
  },
  {
   "cell_type": "markdown",
   "metadata": {},
   "source": []
  },
  {
   "cell_type": "markdown",
   "metadata": {},
   "source": [
    "# Convert coordinates in MATSim network to the coordinate system used by the simulation"
   ]
  },
  {
   "cell_type": "markdown",
   "metadata": {},
   "source": [
    "The conversion is based on the coordinate system set for the TransformationFactory in Osm2matsim.java.\n",
    "If using the following line, the code below will work without any changes:\n",
    "```\n",
    "CoordinateTransformation ct = TransformationFactory.getCoordinateTransformation(TransformationFactory.WGS84, TransformationFactory.WGS84_UTM33N);\n",
    "```"
   ]
  },
  {
   "cell_type": "code",
   "execution_count": 7,
   "metadata": {},
   "outputs": [
    {
     "name": "stderr",
     "output_type": "stream",
     "text": [
      "Converting coordinates:   0%|          | 8/15399 [00:00<06:32, 39.18it/s]"
     ]
    },
    {
     "name": "stdout",
     "output_type": "stream",
     "text": [
      "Progress: 0.01%\n"
     ]
    },
    {
     "name": "stderr",
     "output_type": "stream",
     "text": [
      "Converting coordinates:  10%|█         | 1546/15399 [00:33<05:26, 42.49it/s]"
     ]
    },
    {
     "name": "stdout",
     "output_type": "stream",
     "text": [
      "Progress: 10.00%\n"
     ]
    },
    {
     "name": "stderr",
     "output_type": "stream",
     "text": [
      "Converting coordinates:  20%|██        | 3086/15399 [01:04<04:06, 49.96it/s]"
     ]
    },
    {
     "name": "stdout",
     "output_type": "stream",
     "text": [
      "Progress: 19.99%\n"
     ]
    },
    {
     "name": "stderr",
     "output_type": "stream",
     "text": [
      "Converting coordinates:  30%|███       | 4627/15399 [01:35<03:43, 48.24it/s]"
     ]
    },
    {
     "name": "stdout",
     "output_type": "stream",
     "text": [
      "Progress: 29.99%\n"
     ]
    },
    {
     "name": "stderr",
     "output_type": "stream",
     "text": [
      "Converting coordinates:  40%|████      | 6164/15399 [02:07<03:09, 48.68it/s]"
     ]
    },
    {
     "name": "stdout",
     "output_type": "stream",
     "text": [
      "Progress: 39.98%\n"
     ]
    },
    {
     "name": "stderr",
     "output_type": "stream",
     "text": [
      "Converting coordinates:  50%|█████     | 7705/15399 [02:39<02:37, 48.92it/s]"
     ]
    },
    {
     "name": "stdout",
     "output_type": "stream",
     "text": [
      "Progress: 49.98%\n"
     ]
    },
    {
     "name": "stderr",
     "output_type": "stream",
     "text": [
      "Converting coordinates:  60%|██████    | 9243/15399 [03:10<01:57, 52.49it/s]"
     ]
    },
    {
     "name": "stdout",
     "output_type": "stream",
     "text": [
      "Progress: 59.97%\n"
     ]
    },
    {
     "name": "stderr",
     "output_type": "stream",
     "text": [
      "Converting coordinates:  70%|███████   | 10781/15399 [03:43<01:38, 47.03it/s]"
     ]
    },
    {
     "name": "stdout",
     "output_type": "stream",
     "text": [
      "Progress: 69.97%\n"
     ]
    },
    {
     "name": "stderr",
     "output_type": "stream",
     "text": [
      "Converting coordinates:  80%|████████  | 12323/15399 [04:17<01:03, 48.77it/s]"
     ]
    },
    {
     "name": "stdout",
     "output_type": "stream",
     "text": [
      "Progress: 79.96%\n"
     ]
    },
    {
     "name": "stderr",
     "output_type": "stream",
     "text": [
      "Converting coordinates:  90%|████████▉ | 13859/15399 [04:50<00:32, 47.21it/s]"
     ]
    },
    {
     "name": "stdout",
     "output_type": "stream",
     "text": [
      "Progress: 89.95%\n"
     ]
    },
    {
     "name": "stderr",
     "output_type": "stream",
     "text": [
      "Converting coordinates: 100%|██████████| 15399/15399 [05:21<00:00, 47.85it/s]\n"
     ]
    },
    {
     "name": "stdout",
     "output_type": "stream",
     "text": [
      "Progress: 99.95%\n"
     ]
    },
    {
     "ename": "TypeError",
     "evalue": "ElementTree.write() got an unexpected keyword argument 'doctype'",
     "output_type": "error",
     "traceback": [
      "\u001b[0;31m---------------------------------------------------------------------------\u001b[0m",
      "\u001b[0;31mTypeError\u001b[0m                                 Traceback (most recent call last)",
      "Cell \u001b[0;32mIn[7], line 36\u001b[0m\n\u001b[1;32m     33\u001b[0m output_file \u001b[38;5;241m=\u001b[39m \u001b[38;5;124m\"\u001b[39m\u001b[38;5;124m./output/kiel_converted_EPSG25832.xml\u001b[39m\u001b[38;5;124m\"\u001b[39m\n\u001b[1;32m     34\u001b[0m \u001b[38;5;66;03m# Ensure custom DOCTYPE is used: <!DOCTYPE network SYSTEM \"http://www.matsim.org/files/dtd/network_v2.dtd\">\u001b[39;00m\n\u001b[1;32m     35\u001b[0m \u001b[38;5;66;03m# Otherwise, MATSim will not be able to read the file\u001b[39;00m\n\u001b[0;32m---> 36\u001b[0m \u001b[43mtree\u001b[49m\u001b[38;5;241;43m.\u001b[39;49m\u001b[43mwrite\u001b[49m\u001b[43m(\u001b[49m\u001b[43moutput_file\u001b[49m\u001b[43m,\u001b[49m\u001b[43m \u001b[49m\u001b[43mencoding\u001b[49m\u001b[38;5;241;43m=\u001b[39;49m\u001b[38;5;124;43m'\u001b[39;49m\u001b[38;5;124;43mutf-8\u001b[39;49m\u001b[38;5;124;43m'\u001b[39;49m\u001b[43m,\u001b[49m\u001b[43m \u001b[49m\u001b[43mxml_declaration\u001b[49m\u001b[38;5;241;43m=\u001b[39;49m\u001b[38;5;28;43;01mTrue\u001b[39;49;00m\u001b[43m,\u001b[49m\u001b[43m \u001b[49m\u001b[43mdoctype\u001b[49m\u001b[38;5;241;43m=\u001b[39;49m\u001b[38;5;124;43m'\u001b[39;49m\u001b[38;5;124;43m<!DOCTYPE network SYSTEM \u001b[39;49m\u001b[38;5;124;43m\"\u001b[39;49m\u001b[38;5;124;43mhttp://www.matsim.org/files/dtd/network_v2.dtd\u001b[39;49m\u001b[38;5;124;43m\"\u001b[39;49m\u001b[38;5;124;43m>\u001b[39;49m\u001b[38;5;124;43m'\u001b[39;49m\u001b[43m)\u001b[49m\n\u001b[1;32m     38\u001b[0m \u001b[38;5;28mprint\u001b[39m(\u001b[38;5;124mf\u001b[39m\u001b[38;5;124m\"\u001b[39m\u001b[38;5;124mCoordinate conversion completed. Output saved to \u001b[39m\u001b[38;5;132;01m{\u001b[39;00moutput_file\u001b[38;5;132;01m}\u001b[39;00m\u001b[38;5;124m\"\u001b[39m)\n",
      "\u001b[0;31mTypeError\u001b[0m: ElementTree.write() got an unexpected keyword argument 'doctype'"
     ]
    }
   ],
   "source": [
    "import sys\n",
    "import time\n",
    "from tqdm import tqdm\n",
    "# Load the XML file\n",
    "xml_file = \"./output/kiel.xml\"\n",
    "tree = ET.parse(xml_file)\n",
    "root = tree.getroot()\n",
    "\n",
    "# Define coordinate transformation functions\n",
    "def epsg32633_to_epsg25832(lon, lat):\n",
    "    transformer = Transformer.from_crs(CRS.from_epsg(32633), CRS.from_epsg(25832), always_xy=True)\n",
    "    x, y = transformer.transform(lon, lat)\n",
    "    return x, y\n",
    "\n",
    "# Get the total number of nodes\n",
    "total_nodes = len(root.findall('.//node'))\n",
    "\n",
    "# Parse and update node coordinates\n",
    "progress_step = total_nodes // 10  # 10% steps\n",
    "for i, node in enumerate(tqdm(root.findall('.//node'), total=total_nodes, desc='Converting coordinates')):\n",
    "    lon = float(node.attrib['x'])\n",
    "    lat = float(node.attrib['y'])\n",
    "    x, y = epsg32633_to_epsg25832(lon, lat)\n",
    "    node.attrib['x'] = str(x)\n",
    "    node.attrib['y'] = str(y)\n",
    "    \n",
    "    # Print progress in 10% steps\n",
    "    if i % progress_step == 0:\n",
    "        progress = (i + 1) / total_nodes * 100\n",
    "        tqdm.write(f\"Progress: {progress:.2f}%\")\n",
    "\n",
    "# Save the modified XML file\n",
    "output_file = \"./output/network_kiel_osm_converted_EPSG25832.xml\"\n",
    "# Ensure custom DOCTYPE is used: <!DOCTYPE network SYSTEM \"http://www.matsim.org/files/dtd/network_v2.dtd\">\n",
    "# Otherwise, MATSim will not be able to read the file\n",
    "with open(output_file, 'wb') as f:\n",
    "    f.write('<?xml version=\"1.0\" encoding=\"UTF-8\"?><!DOCTYPE network SYSTEM \"http://www.matsim.org/files/dtd/network_v2.dtd\">'.encode('utf8'))\n",
    "    tree.write(f, encoding='utf-8', xml_declaration=False)\n",
    "    \n",
    "print(f\"Coordinate conversion completed. Output saved to {output_file}\")\n"
   ]
  },
  {
   "cell_type": "markdown",
   "metadata": {},
   "source": [
    "# Preview network"
   ]
  },
  {
   "cell_type": "markdown",
   "metadata": {},
   "source": [
    "To preview the network, you can use the MATSim network editor:\n",
    "``` ./bin/edit_network.sh ```"
   ]
  },
  {
   "cell_type": "markdown",
   "metadata": {},
   "source": []
  }
 ],
 "metadata": {
  "kernelspec": {
   "display_name": "Python 3",
   "language": "python",
   "name": "python3"
  },
  "language_info": {
   "codemirror_mode": {
    "name": "ipython",
    "version": 3
   },
   "file_extension": ".py",
   "mimetype": "text/x-python",
   "name": "python",
   "nbconvert_exporter": "python",
   "pygments_lexer": "ipython3",
   "version": "3.10.12"
  }
 },
 "nbformat": 4,
 "nbformat_minor": 2
}
